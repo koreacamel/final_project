{
  "cells": [
    {
      "cell_type": "code",
      "execution_count": 1,
      "metadata": {
        "id": "U-ciqeCfwrSs"
      },
      "outputs": [],
      "source": [
        "import pandas as pd\n",
        "import numpy as np"
      ]
    },
    {
      "cell_type": "code",
      "execution_count": 5,
      "metadata": {
        "id": "6AnCIxyWxNVH"
      },
      "outputs": [],
      "source": [
        "interiors= pd.read_excel(\"data/가구, 인테리어.xlsx\")\n",
        "books = pd.read_excel(\"data/도서.xlsx\")\n",
        "appliances = pd.read_excel(\"data/디지털, 가전.xlsx\")\n",
        "life_health = pd.read_excel(\"data/생활, 건강.xlsx\")\n",
        "sports = pd.read_excel(\"data/스포츠, 레저.xlsx\")\n",
        "foods = pd.read_excel(\"data/식품.xlsx\")\n",
        "convenience = pd.read_excel(\"data/여가, 생활편의.xlsx\")\n",
        "clothes = pd.read_excel(\"data/패션의류.xlsx\")\n",
        "accessories = pd.read_excel(\"data/패션잡화.xlsx\")\n",
        "cosmetics = pd.read_excel(\"data/화장품, 미용.xlsx\")\n",
        "parenting = pd.read_excel(\"data/출산, 육아.xlsx\")\n"
      ]
    },
    {
      "cell_type": "code",
      "execution_count": null,
      "metadata": {},
      "outputs": [],
      "source": [
        "Interiors,Books, Appliances ,Life_health ,Sports, Foods, Convenience, Clothes, Accessories, Cosmetics, Parenting"
      ]
    },
    {
      "cell_type": "code",
      "execution_count": 10,
      "metadata": {
        "id": "7k989Sy7L8MA"
      },
      "outputs": [],
      "source": [
        "weather = pd.read_csv(\"data/날씨데이터.csv\",  encoding='cp949')"
      ]
    },
    {
      "cell_type": "code",
      "execution_count": 11,
      "metadata": {
        "colab": {
          "base_uri": "https://localhost:8080/",
          "height": 424
        },
        "id": "6xOnZ1gcMZm_",
        "outputId": "261d1f58-df82-4c68-d8ae-7d420fc4b980"
      },
      "outputs": [
        {
          "name": "stderr",
          "output_type": "stream",
          "text": [
            "C:\\Users\\koreacamel\\AppData\\Local\\Temp\\ipykernel_4564\\2976309973.py:15: FutureWarning: The default value of numeric_only in DataFrameGroupBy.mean is deprecated. In a future version, numeric_only will default to False. Either specify numeric_only or select only columns which should be valid for the function.\n",
            "  Weathers = weather_pre.groupby('일시').mean().round(2).reset_index().copy()\n"
          ]
        },
        {
          "data": {
            "text/html": [
              "<div>\n",
              "<style scoped>\n",
              "    .dataframe tbody tr th:only-of-type {\n",
              "        vertical-align: middle;\n",
              "    }\n",
              "\n",
              "    .dataframe tbody tr th {\n",
              "        vertical-align: top;\n",
              "    }\n",
              "\n",
              "    .dataframe thead th {\n",
              "        text-align: right;\n",
              "    }\n",
              "</style>\n",
              "<table border=\"1\" class=\"dataframe\">\n",
              "  <thead>\n",
              "    <tr style=\"text-align: right;\">\n",
              "      <th></th>\n",
              "      <th>일시</th>\n",
              "      <th>평균기온(°C)</th>\n",
              "      <th>일강수량(mm)</th>\n",
              "      <th>평균 상대습도(%)</th>\n",
              "      <th>일 최심신적설(cm)</th>\n",
              "    </tr>\n",
              "  </thead>\n",
              "  <tbody>\n",
              "    <tr>\n",
              "      <th>0</th>\n",
              "      <td>2022-01-01</td>\n",
              "      <td>-6.00</td>\n",
              "      <td>0.00</td>\n",
              "      <td>53.28</td>\n",
              "      <td>0.00</td>\n",
              "    </tr>\n",
              "    <tr>\n",
              "      <th>1</th>\n",
              "      <td>2022-01-02</td>\n",
              "      <td>-2.20</td>\n",
              "      <td>0.28</td>\n",
              "      <td>63.15</td>\n",
              "      <td>0.17</td>\n",
              "    </tr>\n",
              "    <tr>\n",
              "      <th>2</th>\n",
              "      <td>2022-01-03</td>\n",
              "      <td>-3.33</td>\n",
              "      <td>0.00</td>\n",
              "      <td>64.70</td>\n",
              "      <td>0.00</td>\n",
              "    </tr>\n",
              "    <tr>\n",
              "      <th>3</th>\n",
              "      <td>2022-01-04</td>\n",
              "      <td>-2.78</td>\n",
              "      <td>0.02</td>\n",
              "      <td>53.67</td>\n",
              "      <td>0.00</td>\n",
              "    </tr>\n",
              "    <tr>\n",
              "      <th>4</th>\n",
              "      <td>2022-01-05</td>\n",
              "      <td>-3.97</td>\n",
              "      <td>0.00</td>\n",
              "      <td>56.52</td>\n",
              "      <td>0.00</td>\n",
              "    </tr>\n",
              "    <tr>\n",
              "      <th>...</th>\n",
              "      <td>...</td>\n",
              "      <td>...</td>\n",
              "      <td>...</td>\n",
              "      <td>...</td>\n",
              "      <td>...</td>\n",
              "    </tr>\n",
              "    <tr>\n",
              "      <th>323</th>\n",
              "      <td>2022-11-20</td>\n",
              "      <td>11.68</td>\n",
              "      <td>0.00</td>\n",
              "      <td>69.70</td>\n",
              "      <td>0.00</td>\n",
              "    </tr>\n",
              "    <tr>\n",
              "      <th>324</th>\n",
              "      <td>2022-11-21</td>\n",
              "      <td>10.03</td>\n",
              "      <td>0.00</td>\n",
              "      <td>79.50</td>\n",
              "      <td>0.00</td>\n",
              "    </tr>\n",
              "    <tr>\n",
              "      <th>325</th>\n",
              "      <td>2022-11-22</td>\n",
              "      <td>9.02</td>\n",
              "      <td>0.10</td>\n",
              "      <td>80.67</td>\n",
              "      <td>0.00</td>\n",
              "    </tr>\n",
              "    <tr>\n",
              "      <th>326</th>\n",
              "      <td>2022-11-23</td>\n",
              "      <td>10.30</td>\n",
              "      <td>0.00</td>\n",
              "      <td>64.77</td>\n",
              "      <td>0.00</td>\n",
              "    </tr>\n",
              "    <tr>\n",
              "      <th>327</th>\n",
              "      <td>2022-11-24</td>\n",
              "      <td>7.48</td>\n",
              "      <td>0.00</td>\n",
              "      <td>74.13</td>\n",
              "      <td>0.00</td>\n",
              "    </tr>\n",
              "  </tbody>\n",
              "</table>\n",
              "<p>328 rows × 5 columns</p>\n",
              "</div>"
            ],
            "text/plain": [
              "             일시  평균기온(°C)  일강수량(mm)  평균 상대습도(%)  일 최심신적설(cm)\n",
              "0    2022-01-01     -6.00      0.00       53.28         0.00\n",
              "1    2022-01-02     -2.20      0.28       63.15         0.17\n",
              "2    2022-01-03     -3.33      0.00       64.70         0.00\n",
              "3    2022-01-04     -2.78      0.02       53.67         0.00\n",
              "4    2022-01-05     -3.97      0.00       56.52         0.00\n",
              "..          ...       ...       ...         ...          ...\n",
              "323  2022-11-20     11.68      0.00       69.70         0.00\n",
              "324  2022-11-21     10.03      0.00       79.50         0.00\n",
              "325  2022-11-22      9.02      0.10       80.67         0.00\n",
              "326  2022-11-23     10.30      0.00       64.77         0.00\n",
              "327  2022-11-24      7.48      0.00       74.13         0.00\n",
              "\n",
              "[328 rows x 5 columns]"
            ]
          },
          "execution_count": 11,
          "metadata": {},
          "output_type": "execute_result"
        }
      ],
      "source": [
        "weather_pre = weather[['지점명','평균기온(°C)', '일시', '일강수량(mm)', '평균 상대습도(%)','일 최심신적설(cm)' ]].copy()\n",
        "\n",
        "# 평균기온과 평균 상대습도는 앞에 데이터로 결측치를 채운다. \n",
        "\n",
        "weather_pre['평균기온(°C)'] =  weather_pre['평균기온(°C)'].fillna(method = 'ffill')\n",
        "weather_pre['평균 상대습도(%)'] =  weather_pre['평균 상대습도(%)'].fillna(method = 'ffill')\n",
        "\n",
        "\n",
        "# 강수량과 일 최심신적설은 관측되지 않은 것으로 보고 0으로 결측치로 채운다. \n",
        "\n",
        "weather_pre['일강수량(mm)'] =  weather_pre['일강수량(mm)'].fillna(0)\n",
        "weather_pre['일 최심신적설(cm)'] =  weather_pre['일 최심신적설(cm)'].fillna(0)\n",
        "\n",
        "# 전체 데이터를 날자별로 그룹화 하여 평균값을 구하여 (수도권)날씨를 구한다. \n",
        "Weathers = weather_pre.groupby('일시').mean().round(2).reset_index().copy()\n",
        "Weathers"
      ]
    },
    {
      "cell_type": "code",
      "execution_count": 12,
      "metadata": {},
      "outputs": [],
      "source": [
        "Weathers.to_csv(\"weather.csv\", index=False)"
      ]
    },
    {
      "cell_type": "code",
      "execution_count": 13,
      "metadata": {
        "id": "P1ncA6pmMM3r"
      },
      "outputs": [],
      "source": [
        "# 결측치 제거\n",
        "interiors.dropna(inplace = True)\n",
        "interiors.reset_index(inplace = True)\n",
        "\n",
        "# 방송일자와 시간을 합쳐 데이트 타임으로 저장 \n",
        "interiors['방송일자시간'] = pd.to_datetime(interiors['방송일자'] + ' ' +interiors['방송시작시간'])\n",
        "\n",
        "# 한 방송에서 여러 상품을 판매한다. 상품수로 나누어서 상품의 평균 판매량과 평균 매출액을 만든다.\n",
        "interiors['상품평균판매량(개)'] =  round(interiors['판매량'] / interiors['상품수'])\n",
        "interiors['상품평균가격(원)'] =  round(interiors['매출액'] /(interiors['판매량'] * interiors['상품수']))\n",
        "interiors.fillna(0, inplace = True)\n",
        "\n",
        "# 전환율 = (전환수 / 유입수) X 100%\n",
        "interiors['구매전환율(%)'] =  round((interiors['판매량'] / interiors['조회수'])*100,3)\n",
        "\n",
        "\n",
        "#방송정보는 따로 저장해준다. \n",
        "Interiors_inform = interiors[['방송정보URL', '방송다시보기']].reset_index().rename(columns = {'index' : 'Inte_idx'}).copy()\n",
        "\n",
        "#컬럼 순서 병경해서 최종 df를 만든다. \n",
        "Interiors= interiors[['플랫폼', '방송명', '분류', '카테고리', '방송일자시간', '상품수', '판매량', '상품평균판매량(개)', '매출액', '상품평균가격(원)','조회수','구매전환율(%)',\n",
        "                      '방송일자', '방송시작시간' ]].reset_index().rename(columns = {'index' : 'Inte_idx'}).copy()\n",
        "                      \n"
      ]
    },
    {
      "cell_type": "code",
      "execution_count": 14,
      "metadata": {
        "colab": {
          "base_uri": "https://localhost:8080/",
          "height": 693
        },
        "id": "gkIhnxxhcUF3",
        "outputId": "1254aa2e-a19d-4b63-deed-c9f66f563080"
      },
      "outputs": [],
      "source": [
        "Interiors.to_csv(\"Interiors.csv\", index=False)"
      ]
    },
    {
      "cell_type": "code",
      "execution_count": 15,
      "metadata": {
        "colab": {
          "base_uri": "https://localhost:8080/",
          "height": 710
        },
        "id": "K2uyH-pANm3F",
        "outputId": "277cc7de-c6f7-458f-b47d-d4a44ab1dd75"
      },
      "outputs": [],
      "source": [
        "# 결측치 제거\n",
        "books.dropna(inplace = True)\n",
        "books.reset_index(inplace = True)\n",
        "\n",
        "# 방송일자와 시간을 합쳐 데이트 타임으로 저장 \n",
        "books['방송일자시간'] = pd.to_datetime(books['방송일자'] + ' ' +books['방송시작시간'])\n",
        "\n",
        "# 한 방송에서 여러 상품을 판매한다. 상품수로 나누어서 상품의 평균 판매량과 평균 매출액을 만든다.\n",
        "books['매출액'] = books['매출액'].astype('int')\n",
        "\n",
        "books['상품평균판매량(개)'] =  round(books['판매량'] / books['상품수'])\n",
        "books['상품평균가격(원)'] =  round(books['매출액'] /(books['판매량'] * books['상품수']))\n",
        "books.fillna(0, inplace = True)\n",
        "\n",
        "\n",
        "books['상품평균가격(원)']  = books['상품평균가격(원)'].astype('int')\n",
        "\n",
        "# 전환율 = (전환수 / 유입수) X 100%\n",
        "books['구매전환율(%)'] =  round((books['판매량'] / books['조회수'])*100,3)\n",
        "\n",
        "\n",
        "#방송정보는 따로 저장해준다. \n",
        "books_inform = books[['방송정보URL', '방송다시보기']].reset_index().rename(columns = {'index' : 'book_idx'}).copy()\n",
        "\n",
        "#컬럼 순서 병경해서 최종 df를 만든다. \n",
        "Books= books[['플랫폼', '방송명', '분류', '카테고리', '방송일자시간', '상품수', '판매량', '상품평균판매량(개)', '매출액', '상품평균가격(원)','조회수','구매전환율(%)',\n",
        "                      '방송일자', '방송시작시간' ]].reset_index().rename(columns = {'index' : 'book_idx'}).copy()\n",
        "                      "
      ]
    },
    {
      "cell_type": "code",
      "execution_count": 16,
      "metadata": {},
      "outputs": [],
      "source": [
        "Books.to_csv(\"Books.csv\", index=False)"
      ]
    },
    {
      "cell_type": "code",
      "execution_count": 17,
      "metadata": {
        "id": "-mj1_615Nm0L"
      },
      "outputs": [],
      "source": [
        "# 결측치 제거\n",
        "appliances.dropna(inplace = True)\n",
        "appliances.reset_index(inplace = True)\n",
        "\n",
        "# 방송일자와 시간을 합쳐 데이트 타임으로 저장 \n",
        "appliances['방송일자시간'] = pd.to_datetime(appliances['방송일자'] + ' ' +appliances['방송시작시간'])\n",
        "\n",
        "# 한 방송에서 여러 상품을 판매한다. 상품수로 나누어서 상품의 평균 판매량과 평균 매출액을 만든다.\n",
        "appliances['상품평균판매량(개)'] =  round(appliances['판매량'] / appliances['상품수'])\n",
        "appliances['상품평균가격(원)'] =  round(appliances['매출액'] /(appliances['판매량'] * appliances['상품수']))\n",
        "appliances.fillna(0, inplace = True)\n",
        "\n",
        "# 전환율 = (전환수 / 유입수) X 100%\n",
        "appliances['구매전환율(%)'] =  round((appliances['판매량'] / appliances['조회수'])*100,3)\n",
        "\n",
        "\n",
        "#방송정보는 따로 저장해준다. \n",
        "appliances_inform = appliances[['방송정보URL', '방송다시보기']].reset_index().rename(columns = {'index' : 'Appli_idx'}).copy()\n",
        "\n",
        "#컬럼 순서 병경해서 최종 df를 만든다. \n",
        "Appliances= appliances[['플랫폼', '방송명', '분류', '카테고리', '방송일자시간', '상품수', '판매량', '상품평균판매량(개)', '매출액', '상품평균가격(원)','조회수','구매전환율(%)',\n",
        "                      '방송일자', '방송시작시간' ]].reset_index().rename(columns = {'index' : 'Appli_idx'}).copy()\n",
        "                      \n",
        "\n"
      ]
    },
    {
      "cell_type": "code",
      "execution_count": 18,
      "metadata": {
        "colab": {
          "base_uri": "https://localhost:8080/",
          "height": 849
        },
        "id": "IrqkBDbQxpyz",
        "outputId": "e285576f-6759-4680-fae7-e7f81ea09f11"
      },
      "outputs": [],
      "source": [
        "Appliances.to_csv(\"Appliances.csv\", index=False)"
      ]
    },
    {
      "cell_type": "code",
      "execution_count": 19,
      "metadata": {
        "colab": {
          "base_uri": "https://localhost:8080/",
          "height": 814
        },
        "id": "Vd1Byh9fx16R",
        "outputId": "e9a61052-2301-4c60-b79e-6f1a160d5d8b"
      },
      "outputs": [],
      "source": [
        "# 결측치 제거\n",
        "life_health.dropna(inplace = True)\n",
        "life_health.reset_index(inplace = True)\n",
        "\n",
        "# 방송일자와 시간을 합쳐 데이트 타임으로 저장 \n",
        "life_health['방송일자시간'] = pd.to_datetime(life_health['방송일자'] + ' ' +life_health['방송시작시간'])\n",
        "\n",
        "# 한 방송에서 여러 상품을 판매한다. 상품수로 나누어서 상품의 평균 판매량과 평균 매출액을 만든다.\n",
        "life_health['상품평균판매량(개)'] =  round(life_health['판매량'] / life_health['상품수'])\n",
        "life_health['상품평균가격(원)'] =  round(life_health['매출액'] /(life_health['판매량'] * life_health['상품수']))\n",
        "life_health.fillna(0, inplace = True)\n",
        "\n",
        "# 전환율 = (전환수 / 유입수) X 100%\n",
        "life_health['구매전환율(%)'] =  round((life_health['판매량'] / life_health['조회수'])*100,3)\n",
        "\n",
        "\n",
        "#방송정보는 따로 저장해준다. \n",
        "life_health_inform = life_health[['방송정보URL', '방송다시보기']].reset_index().rename(columns = {'index' : 'health_idx'}).copy()\n",
        "\n",
        "#컬럼 순서 병경해서 최종 df를 만든다. \n",
        "Life_health= life_health[['플랫폼', '방송명', '분류', '카테고리', '방송일자시간', '상품수', '판매량', '상품평균판매량(개)', '매출액', '상품평균가격(원)','조회수','구매전환율(%)',\n",
        "                      '방송일자', '방송시작시간' ]].reset_index().rename(columns = {'index' : 'health_idx'}).copy()\n",
        "\n",
        "               "
      ]
    },
    {
      "cell_type": "code",
      "execution_count": 20,
      "metadata": {
        "colab": {
          "base_uri": "https://localhost:8080/",
          "height": 676
        },
        "id": "SsTVOaDV_irx",
        "outputId": "8652dbd9-8661-467d-bac4-31b43d4fc519"
      },
      "outputs": [],
      "source": [
        "Life_health.to_csv(\"Life_health.csv\", index=False)"
      ]
    },
    {
      "cell_type": "code",
      "execution_count": 21,
      "metadata": {
        "colab": {
          "base_uri": "https://localhost:8080/",
          "height": 849
        },
        "id": "d9qsOKXLzElr",
        "outputId": "a4bdbbaf-3320-436e-abad-cf32163e71a1"
      },
      "outputs": [],
      "source": [
        "# 결측치 제거\n",
        "sports.dropna(inplace = True)\n",
        "sports.reset_index(inplace = True)\n",
        "\n",
        "# 방송일자와 시간을 합쳐 데이트 타임으로 저장 \n",
        "sports['방송일자시간'] = pd.to_datetime(sports['방송일자'] + ' ' +sports['방송시작시간'])\n",
        "\n",
        "# 한 방송에서 여러 상품을 판매한다. 상품수로 나누어서 상품의 평균 판매량과 평균 매출액을 만든다.\n",
        "sports['상품평균판매량(개)'] =  round(sports['판매량'] / sports['상품수'])\n",
        "sports['상품평균가격(원)'] =  round(sports['매출액'] /(sports['판매량'] * sports['상품수']))\n",
        "sports.fillna(0, inplace = True)\n",
        "\n",
        "# 전환율 = (전환수 / 유입수) X 100%\n",
        "sports['구매전환율(%)'] =  round((sports['판매량'] / sports['조회수'])*100,3)\n",
        "\n",
        "\n",
        "#방송정보는 따로 저장해준다. \n",
        "sports_inform = sports[['방송정보URL', '방송다시보기']].reset_index().rename(columns = {'index' : 'sport_idx'}).copy()\n",
        "\n",
        "#컬럼 순서 병경해서 최종 df를 만든다. \n",
        "Sports= sports[['플랫폼', '방송명', '분류', '카테고리', '방송일자시간', '상품수', '판매량', '상품평균판매량(개)', '매출액', '상품평균가격(원)','조회수','구매전환율(%)',\n",
        "                      '방송일자', '방송시작시간' ]].reset_index().rename(columns = {'index' : 'sport_idx'}).copy()\n"
      ]
    },
    {
      "cell_type": "code",
      "execution_count": 22,
      "metadata": {},
      "outputs": [],
      "source": [
        "Sports.to_csv(\"Sports.csv\", index=False)"
      ]
    },
    {
      "cell_type": "code",
      "execution_count": 24,
      "metadata": {
        "colab": {
          "base_uri": "https://localhost:8080/",
          "height": 693
        },
        "id": "bgqTUm8CNmu3",
        "outputId": "47cef5e0-861b-4d67-b1aa-904e8dc7c692"
      },
      "outputs": [],
      "source": [
        "# 결측치 제거\n",
        "foods.dropna(inplace = True)\n",
        "foods.reset_index(inplace = True)\n",
        "\n",
        "# 방송일자와 시간을 합쳐 데이트 타임으로 저장 \n",
        "foods['방송일자시간'] = pd.to_datetime(foods['방송일자'] + ' ' +foods['방송시작시간'])\n",
        "\n",
        "# 한 방송에서 여러 상품을 판매한다. 상품수로 나누어서 상품의 평균 판매량과 평균 매출액을 만든다.\n",
        "foods['상품평균판매량(개)'] =  round(foods['판매량'] / foods['상품수'])\n",
        "foods['상품평균가격(원)'] =  round(foods['매출액'] /(foods['판매량'] * foods['상품수']))\n",
        "foods.fillna(0, inplace = True)\n",
        "\n",
        "# 전환율 = (전환수 / 유입수) X 100%\n",
        "foods['구매전환율(%)'] =  round((foods['판매량'] / foods['조회수'])*100,3)\n",
        "\n",
        "\n",
        "#방송정보는 따로 저장해준다. \n",
        "foods_inform = foods[['방송정보URL', '방송다시보기']].reset_index().rename(columns = {'index' : 'food_idx'}).copy()\n",
        "\n",
        "#컬럼 순서 병경해서 최종 df를 만든다. \n",
        "Foods= foods[['플랫폼', '방송명', '분류', '카테고리', '방송일자시간', '상품수', '판매량', '상품평균판매량(개)', '매출액', '상품평균가격(원)','조회수','구매전환율(%)',\n",
        "                      '방송일자', '방송시작시간' ]].reset_index().rename(columns = {'index' : 'food_idx'}).copy()\n"
      ]
    },
    {
      "cell_type": "code",
      "execution_count": 25,
      "metadata": {
        "colab": {
          "base_uri": "https://localhost:8080/",
          "height": 676
        },
        "id": "_conRNaG4_Hv",
        "outputId": "0919095a-ba39-4b71-b75c-5b4639f9cf5f"
      },
      "outputs": [],
      "source": [
        "Foods.to_csv(\"Foods.csv\", index=False)"
      ]
    },
    {
      "cell_type": "code",
      "execution_count": 26,
      "metadata": {
        "colab": {
          "base_uri": "https://localhost:8080/",
          "height": 849
        },
        "id": "5AJ0_GkYNmsK",
        "outputId": "62cc60a8-8038-43bf-a364-41c056144635"
      },
      "outputs": [],
      "source": [
        "# 결측치 제거\n",
        "convenience.dropna(inplace = True)\n",
        "convenience.reset_index(inplace = True)\n",
        "\n",
        "# 방송일자와 시간을 합쳐 데이트 타임으로 저장 \n",
        "convenience['방송일자시간'] = pd.to_datetime(convenience['방송일자'] + ' ' +convenience['방송시작시간'])\n",
        "\n",
        "# 한 방송에서 여러 상품을 판매한다. 상품수로 나누어서 상품의 평균 판매량과 평균 매출액을 만든다.\n",
        "convenience['상품평균판매량(개)'] =  round(convenience['판매량'] / convenience['상품수'])\n",
        "convenience['상품평균가격(원)'] =  round(convenience['매출액'] /(convenience['판매량'] * convenience['상품수']))\n",
        "convenience.fillna(0, inplace = True)\n",
        "\n",
        "# 전환율 = (전환수 / 유입수) X 100%\n",
        "convenience['구매전환율(%)'] =  round((convenience['판매량'] / convenience['조회수'])*100,3)\n",
        "\n",
        "\n",
        "#방송정보는 따로 저장해준다. \n",
        "Convenience_inform = convenience[['방송정보URL', '방송다시보기']].reset_index().rename(columns = {'index' : 'conveni_idx'}).copy()\n",
        "\n",
        "#컬럼 순서 병경해서 최종 df를 만든다. \n",
        "Convenience= convenience[['플랫폼', '방송명', '분류', '카테고리', '방송일자시간', '상품수', '판매량', '상품평균판매량(개)', '매출액', '상품평균가격(원)','조회수','구매전환율(%)',\n",
        "                      '방송일자', '방송시작시간' ]].reset_index().rename(columns = {'index' : 'conveni_idx'}).copy()\n"
      ]
    },
    {
      "cell_type": "code",
      "execution_count": 27,
      "metadata": {},
      "outputs": [],
      "source": [
        "Convenience.to_csv(\"Convenience.csv\", index=False)"
      ]
    },
    {
      "cell_type": "code",
      "execution_count": 28,
      "metadata": {
        "colab": {
          "base_uri": "https://localhost:8080/",
          "height": 780
        },
        "id": "0O0thh7XOLTv",
        "outputId": "54de561d-5d5f-4043-dc56-5a570d07164b"
      },
      "outputs": [],
      "source": [
        "# 결측치 제거\n",
        "clothes.dropna(inplace = True)\n",
        "clothes.reset_index(inplace = True)\n",
        "\n",
        "# 방송일자와 시간을 합쳐 데이트 타임으로 저장 \n",
        "clothes['방송일자시간'] = pd.to_datetime(clothes['방송일자'] + ' ' +clothes['방송시작시간'])\n",
        "\n",
        "# 한 방송에서 여러 상품을 판매한다. 상품수로 나누어서 상품의 평균 판매량과 평균 매출액을 만든다.\n",
        "clothes['상품평균판매량(개)'] =  round(clothes['판매량'] / clothes['상품수'])\n",
        "clothes['상품평균가격(원)'] =  round(clothes['매출액'] /(clothes['판매량'] * clothes['상품수']))\n",
        "clothes.fillna(0, inplace = True)\n",
        "\n",
        "# 전환율 = (전환수 / 유입수) X 100%\n",
        "clothes['구매전환율(%)'] =  round((clothes['판매량'] / clothes['조회수'])*100,3)\n",
        "\n",
        "\n",
        "#방송정보는 따로 저장해준다. \n",
        "Clothes_inform = clothes[['방송정보URL', '방송다시보기']].reset_index().rename(columns = {'index' : 'clo_idx'}).copy()\n",
        "\n",
        "#컬럼 순서 병경해서 최종 df를 만든다. \n",
        "Clothes= clothes[['플랫폼', '방송명', '분류', '카테고리', '방송일자시간', '상품수', '판매량', '상품평균판매량(개)', '매출액', '상품평균가격(원)','조회수','구매전환율(%)',\n",
        "                      '방송일자', '방송시작시간' ]].reset_index().rename(columns = {'index' : 'clo_idx'}).copy()\n",
        "\n"
      ]
    },
    {
      "cell_type": "code",
      "execution_count": 29,
      "metadata": {},
      "outputs": [],
      "source": [
        "Clothes.to_csv(\"Clothes.csv\", index=False)"
      ]
    },
    {
      "cell_type": "code",
      "execution_count": 30,
      "metadata": {
        "colab": {
          "base_uri": "https://localhost:8080/",
          "height": 693
        },
        "id": "PYF4BOiOON_L",
        "outputId": "51cef06e-8233-4c7b-cab1-5eef8ef8b833"
      },
      "outputs": [],
      "source": [
        "# 결측치 제거\n",
        "accessories.dropna(inplace = True)\n",
        "accessories.reset_index(inplace = True)\n",
        "\n",
        "# 방송일자와 시간을 합쳐 데이트 타임으로 저장 \n",
        "accessories['방송일자시간'] = pd.to_datetime(accessories['방송일자'] + ' ' +accessories['방송시작시간'])\n",
        "\n",
        "# 한 방송에서 여러 상품을 판매한다. 상품수로 나누어서 상품의 평균 판매량과 평균 매출액을 만든다.\n",
        "accessories['상품평균판매량(개)'] =  round(accessories['판매량'] / accessories['상품수'])\n",
        "accessories['상품평균가격(원)'] =  round(accessories['매출액'] /(accessories['판매량'] * accessories['상품수']))\n",
        "accessories.fillna(0, inplace = True)\n",
        "\n",
        "# 전환율 = (전환수 / 유입수) X 100%\n",
        "accessories['구매전환율(%)'] =  round((accessories['판매량'] / accessories['조회수'])*100,3)\n",
        "\n",
        "\n",
        "#방송정보는 따로 저장해준다. \n",
        "Accessories_inform = accessories[['방송정보URL', '방송다시보기']].reset_index().rename(columns = {'index' : 'acc_idx'}).copy()\n",
        "\n",
        "#컬럼 순서 병경해서 최종 df를 만든다. \n",
        "Accessories= accessories[['플랫폼', '방송명', '분류', '카테고리', '방송일자시간', '상품수', '판매량', '상품평균판매량(개)', '매출액', '상품평균가격(원)','조회수','구매전환율(%)',\n",
        "                      '방송일자', '방송시작시간' ]].reset_index().rename(columns = {'index' : 'acc_idx'}).copy()\n",
        "\n"
      ]
    },
    {
      "cell_type": "code",
      "execution_count": 31,
      "metadata": {},
      "outputs": [],
      "source": [
        "Accessories.to_csv(\"Accessories.csv\", index=False)"
      ]
    },
    {
      "cell_type": "code",
      "execution_count": 32,
      "metadata": {
        "colab": {
          "base_uri": "https://localhost:8080/",
          "height": 849
        },
        "id": "lD-pLIIhOO12",
        "outputId": "bf07a336-31b1-424b-e1c8-658eb41da022"
      },
      "outputs": [],
      "source": [
        "# 결측치 제거\n",
        "cosmetics.dropna(inplace = True)\n",
        "cosmetics.reset_index(inplace = True)\n",
        "\n",
        "# 방송일자와 시간을 합쳐 데이트 타임으로 저장 \n",
        "cosmetics['방송일자시간'] = pd.to_datetime(cosmetics['방송일자'] + ' ' +cosmetics['방송시작시간'])\n",
        "\n",
        "# 한 방송에서 여러 상품을 판매한다. 상품수로 나누어서 상품의 평균 판매량과 평균 매출액을 만든다.\n",
        "cosmetics['상품평균판매량(개)'] =  round(cosmetics['판매량'] / cosmetics['상품수'])\n",
        "cosmetics['상품평균가격(원)'] =  round(cosmetics['매출액'] /(cosmetics['판매량'] * cosmetics['상품수']))\n",
        "cosmetics.fillna(0, inplace = True)\n",
        "\n",
        "# 전환율 = (전환수 / 유입수) X 100%\n",
        "cosmetics['구매전환율(%)'] =  round((cosmetics['판매량'] / cosmetics['조회수'])*100,3)\n",
        "\n",
        "\n",
        "#방송정보는 따로 저장해준다. \n",
        "Cosmetics_inform = cosmetics[['방송정보URL', '방송다시보기']].reset_index().rename(columns = {'index' : 'cos_idx'}).copy()\n",
        "\n",
        "#컬럼 순서 병경해서 최종 df를 만든다. \n",
        "Cosmetics= cosmetics[['플랫폼', '방송명', '분류', '카테고리', '방송일자시간', '상품수', '판매량', '상품평균판매량(개)', '매출액', '상품평균가격(원)','조회수','구매전환율(%)',\n",
        "                      '방송일자', '방송시작시간' ]].reset_index().rename(columns = {'index' : 'cos_idx'}).copy()\n",
        "\n"
      ]
    },
    {
      "cell_type": "code",
      "execution_count": 33,
      "metadata": {},
      "outputs": [],
      "source": [
        "Cosmetics.to_csv(\"Cosmetics.csv\", index=False)"
      ]
    },
    {
      "cell_type": "code",
      "execution_count": 34,
      "metadata": {
        "id": "1lh10N0JOOz3"
      },
      "outputs": [],
      "source": [
        "# 결측치 제거\n",
        "parenting.dropna(inplace = True)\n",
        "parenting.reset_index(inplace = True)\n",
        "\n",
        "# 방송일자와 시간을 합쳐 데이트 타임으로 저장 \n",
        "parenting['방송일자시간'] = pd.to_datetime(parenting['방송일자'] + ' ' +parenting['방송시작시간'])\n",
        "\n",
        "# 한 방송에서 여러 상품을 판매한다. 상품수로 나누어서 상품의 평균 판매량과 평균 매출액을 만든다.\n",
        "parenting['상품평균판매량(개)'] =  round(parenting['판매량'] / parenting['상품수'])\n",
        "parenting['상품평균가격(원)'] =  round(parenting['매출액'] /(parenting['판매량'] * parenting['상품수']))\n",
        "parenting.fillna(0, inplace = True)\n",
        "\n",
        "# 전환율 = (전환수 / 유입수) X 100%\n",
        "parenting['구매전환율(%)'] =  round((parenting['판매량'] / parenting['조회수'])*100,3)\n",
        "\n",
        "\n",
        "#방송정보는 따로 저장해준다. \n",
        "parenting_inform = parenting[['방송정보URL', '방송다시보기']].reset_index().rename(columns = {'index' : 'cos_idx'}).copy()\n",
        "\n",
        "#컬럼 순서 병경해서 최종 df를 만든다. \n",
        "Parenting= parenting[['플랫폼', '방송명', '분류', '카테고리', '방송일자시간', '상품수', '판매량', '상품평균판매량(개)', '매출액', '상품평균가격(원)','조회수','구매전환율(%)',\n",
        "                      '방송일자', '방송시작시간' ]].reset_index().rename(columns = {'index' : 'cos_idx'}).copy()\n",
        "\n"
      ]
    },
    {
      "cell_type": "code",
      "execution_count": 36,
      "metadata": {},
      "outputs": [],
      "source": [
        "Parenting.to_csv(\"Parenting.csv\", index=False)"
      ]
    },
    {
      "attachments": {},
      "cell_type": "markdown",
      "metadata": {},
      "source": [
        "# 데이터분석"
      ]
    },
    {
      "cell_type": "code",
      "execution_count": 60,
      "metadata": {},
      "outputs": [
        {
          "data": {
            "text/html": [
              "<div>\n",
              "<style scoped>\n",
              "    .dataframe tbody tr th:only-of-type {\n",
              "        vertical-align: middle;\n",
              "    }\n",
              "\n",
              "    .dataframe tbody tr th {\n",
              "        vertical-align: top;\n",
              "    }\n",
              "\n",
              "    .dataframe thead th {\n",
              "        text-align: right;\n",
              "    }\n",
              "</style>\n",
              "<table border=\"1\" class=\"dataframe\">\n",
              "  <thead>\n",
              "    <tr style=\"text-align: right;\">\n",
              "      <th></th>\n",
              "      <th>Title</th>\n",
              "      <th>press</th>\n",
              "      <th>Datetime</th>\n",
              "      <th>Article</th>\n",
              "      <th>Link</th>\n",
              "    </tr>\n",
              "  </thead>\n",
              "  <tbody>\n",
              "    <tr>\n",
              "      <th>0</th>\n",
              "      <td>[새해 업종별 3대 키워드]①소비자 '변심'에 '변신'하는 유통家</td>\n",
              "      <td>뉴스1</td>\n",
              "      <td>2021-01-01</td>\n",
              "      <td>온·오프라인 통합에 긱 이코노미 성장까지…\"변화의 연속\"편의점만 가면 뭐든지 'OK...</td>\n",
              "      <td>https://n.news.naver.com/mnews/article/421/000...</td>\n",
              "    </tr>\n",
              "    <tr>\n",
              "      <th>1</th>\n",
              "      <td>[2021 컨슈머]① “10분에 1억 매출”... 비대면 소비 이끄는 ‘라이브 커머스’</td>\n",
              "      <td>조선비즈언론사 선정</td>\n",
              "      <td>2021-01-02</td>\n",
              "      <td>대신 입어주고, 바로 답해주고… ‘쌍방향 쇼핑’으로 주목 네이버 이어 쿠팡·배민도 ...</td>\n",
              "      <td>https://n.news.naver.com/mnews/article/366/000...</td>\n",
              "    </tr>\n",
              "    <tr>\n",
              "      <th>2</th>\n",
              "      <td>네이버가 쏘아 올린 라방 전성시대...쿠팡·11번가도 참전</td>\n",
              "      <td>서울경제언론사 선정</td>\n",
              "      <td>2021-01-02</td>\n",
              "      <td>[서울경제] 신종 코로나바이러스 감염증(코로나19)으로 비대면 소비문화가 확산하면서...</td>\n",
              "      <td>https://n.news.naver.com/mnews/article/011/000...</td>\n",
              "    </tr>\n",
              "    <tr>\n",
              "      <th>3</th>\n",
              "      <td>[새해 업종별 3대 키워드]③패션·뷰티업계 '온택트·온미맨드·지속가능'</td>\n",
              "      <td>뉴스1</td>\n",
              "      <td>2021-01-03</td>\n",
              "      <td>코로나 쇼크에 '천지개벽'…\"소통 강화하고 개성 따라잡기\"롯데 온택트 패션위크.© ...</td>\n",
              "      <td>https://n.news.naver.com/mnews/article/421/000...</td>\n",
              "    </tr>\n",
              "    <tr>\n",
              "      <th>4</th>\n",
              "      <td>현대백화점, '레고 신상품' 라방으로 만나보세요</td>\n",
              "      <td>전자신문</td>\n",
              "      <td>2021-01-03</td>\n",
              "      <td>3일 오전 경기도 부천시 현대백화점 중동점 유플렉스 지하 1층 레고 공식 매장에서 ...</td>\n",
              "      <td>https://n.news.naver.com/mnews/article/030/000...</td>\n",
              "    </tr>\n",
              "  </tbody>\n",
              "</table>\n",
              "</div>"
            ],
            "text/plain": [
              "                                              Title       press    Datetime  \\\n",
              "0              [새해 업종별 3대 키워드]①소비자 '변심'에 '변신'하는 유통家         뉴스1  2021-01-01   \n",
              "1  [2021 컨슈머]① “10분에 1억 매출”... 비대면 소비 이끄는 ‘라이브 커머스’  조선비즈언론사 선정  2021-01-02   \n",
              "2                  네이버가 쏘아 올린 라방 전성시대...쿠팡·11번가도 참전  서울경제언론사 선정  2021-01-02   \n",
              "3           [새해 업종별 3대 키워드]③패션·뷰티업계 '온택트·온미맨드·지속가능'         뉴스1  2021-01-03   \n",
              "4                        현대백화점, '레고 신상품' 라방으로 만나보세요        전자신문  2021-01-03   \n",
              "\n",
              "                                             Article  \\\n",
              "0  온·오프라인 통합에 긱 이코노미 성장까지…\"변화의 연속\"편의점만 가면 뭐든지 'OK...   \n",
              "1  대신 입어주고, 바로 답해주고… ‘쌍방향 쇼핑’으로 주목 네이버 이어 쿠팡·배민도 ...   \n",
              "2  [서울경제] 신종 코로나바이러스 감염증(코로나19)으로 비대면 소비문화가 확산하면서...   \n",
              "3  코로나 쇼크에 '천지개벽'…\"소통 강화하고 개성 따라잡기\"롯데 온택트 패션위크.© ...   \n",
              "4  3일 오전 경기도 부천시 현대백화점 중동점 유플렉스 지하 1층 레고 공식 매장에서 ...   \n",
              "\n",
              "                                                Link  \n",
              "0  https://n.news.naver.com/mnews/article/421/000...  \n",
              "1  https://n.news.naver.com/mnews/article/366/000...  \n",
              "2  https://n.news.naver.com/mnews/article/011/000...  \n",
              "3  https://n.news.naver.com/mnews/article/421/000...  \n",
              "4  https://n.news.naver.com/mnews/article/030/000...  "
            ]
          },
          "execution_count": 60,
          "metadata": {},
          "output_type": "execute_result"
        }
      ],
      "source": [
        "articles = pd.read_csv(\"data/article_2000.csv\")\n",
        "articles.head()"
      ]
    },
    {
      "cell_type": "code",
      "execution_count": 54,
      "metadata": {},
      "outputs": [],
      "source": [
        "articles.Datetime = pd.to_datetime(articles.Datetime)"
      ]
    },
    {
      "cell_type": "code",
      "execution_count": 63,
      "metadata": {},
      "outputs": [],
      "source": [
        "articles_tmp = articles.copy()"
      ]
    },
    {
      "cell_type": "code",
      "execution_count": 68,
      "metadata": {},
      "outputs": [
        {
          "name": "stdout",
          "output_type": "stream",
          "text": [
            "<class 'pandas.core.frame.DataFrame'>\n",
            "RangeIndex: 1892 entries, 0 to 1891\n",
            "Data columns (total 5 columns):\n",
            " #   Column    Non-Null Count  Dtype         \n",
            "---  ------    --------------  -----         \n",
            " 0   Title     1892 non-null   object        \n",
            " 1   press     1892 non-null   object        \n",
            " 2   Datetime  1892 non-null   datetime64[ns]\n",
            " 3   Article   1892 non-null   object        \n",
            " 4   Link      1892 non-null   object        \n",
            "dtypes: datetime64[ns](1), object(4)\n",
            "memory usage: 74.0+ KB\n"
          ]
        }
      ],
      "source": [
        "articles_tmp.Datetime = pd.to_datetime(articles_tmp.Datetime)\n",
        "articles_tmp.info()"
      ]
    },
    {
      "cell_type": "code",
      "execution_count": 73,
      "metadata": {},
      "outputs": [],
      "source": [
        "articles_tmp['year'] = articles_tmp['Datetime'].dt.year\n",
        "articles_tmp['month'] = articles_tmp['Datetime'].dt.month"
      ]
    },
    {
      "cell_type": "code",
      "execution_count": 74,
      "metadata": {},
      "outputs": [
        {
          "data": {
            "text/html": [
              "<div>\n",
              "<style scoped>\n",
              "    .dataframe tbody tr th:only-of-type {\n",
              "        vertical-align: middle;\n",
              "    }\n",
              "\n",
              "    .dataframe tbody tr th {\n",
              "        vertical-align: top;\n",
              "    }\n",
              "\n",
              "    .dataframe thead th {\n",
              "        text-align: right;\n",
              "    }\n",
              "</style>\n",
              "<table border=\"1\" class=\"dataframe\">\n",
              "  <thead>\n",
              "    <tr style=\"text-align: right;\">\n",
              "      <th></th>\n",
              "      <th>Title</th>\n",
              "      <th>press</th>\n",
              "      <th>Datetime</th>\n",
              "      <th>Article</th>\n",
              "      <th>Link</th>\n",
              "      <th>year</th>\n",
              "      <th>month</th>\n",
              "    </tr>\n",
              "  </thead>\n",
              "  <tbody>\n",
              "    <tr>\n",
              "      <th>0</th>\n",
              "      <td>[새해 업종별 3대 키워드]①소비자 '변심'에 '변신'하는 유통家</td>\n",
              "      <td>뉴스1</td>\n",
              "      <td>2021-01-01</td>\n",
              "      <td>온·오프라인 통합에 긱 이코노미 성장까지…\"변화의 연속\"편의점만 가면 뭐든지 'OK...</td>\n",
              "      <td>https://n.news.naver.com/mnews/article/421/000...</td>\n",
              "      <td>2021</td>\n",
              "      <td>1</td>\n",
              "    </tr>\n",
              "    <tr>\n",
              "      <th>1</th>\n",
              "      <td>[2021 컨슈머]① “10분에 1억 매출”... 비대면 소비 이끄는 ‘라이브 커머스’</td>\n",
              "      <td>조선비즈언론사 선정</td>\n",
              "      <td>2021-01-02</td>\n",
              "      <td>대신 입어주고, 바로 답해주고… ‘쌍방향 쇼핑’으로 주목 네이버 이어 쿠팡·배민도 ...</td>\n",
              "      <td>https://n.news.naver.com/mnews/article/366/000...</td>\n",
              "      <td>2021</td>\n",
              "      <td>1</td>\n",
              "    </tr>\n",
              "    <tr>\n",
              "      <th>2</th>\n",
              "      <td>네이버가 쏘아 올린 라방 전성시대...쿠팡·11번가도 참전</td>\n",
              "      <td>서울경제언론사 선정</td>\n",
              "      <td>2021-01-02</td>\n",
              "      <td>[서울경제] 신종 코로나바이러스 감염증(코로나19)으로 비대면 소비문화가 확산하면서...</td>\n",
              "      <td>https://n.news.naver.com/mnews/article/011/000...</td>\n",
              "      <td>2021</td>\n",
              "      <td>1</td>\n",
              "    </tr>\n",
              "    <tr>\n",
              "      <th>3</th>\n",
              "      <td>[새해 업종별 3대 키워드]③패션·뷰티업계 '온택트·온미맨드·지속가능'</td>\n",
              "      <td>뉴스1</td>\n",
              "      <td>2021-01-03</td>\n",
              "      <td>코로나 쇼크에 '천지개벽'…\"소통 강화하고 개성 따라잡기\"롯데 온택트 패션위크.© ...</td>\n",
              "      <td>https://n.news.naver.com/mnews/article/421/000...</td>\n",
              "      <td>2021</td>\n",
              "      <td>1</td>\n",
              "    </tr>\n",
              "    <tr>\n",
              "      <th>4</th>\n",
              "      <td>현대백화점, '레고 신상품' 라방으로 만나보세요</td>\n",
              "      <td>전자신문</td>\n",
              "      <td>2021-01-03</td>\n",
              "      <td>3일 오전 경기도 부천시 현대백화점 중동점 유플렉스 지하 1층 레고 공식 매장에서 ...</td>\n",
              "      <td>https://n.news.naver.com/mnews/article/030/000...</td>\n",
              "      <td>2021</td>\n",
              "      <td>1</td>\n",
              "    </tr>\n",
              "    <tr>\n",
              "      <th>...</th>\n",
              "      <td>...</td>\n",
              "      <td>...</td>\n",
              "      <td>...</td>\n",
              "      <td>...</td>\n",
              "      <td>...</td>\n",
              "      <td>...</td>\n",
              "      <td>...</td>\n",
              "    </tr>\n",
              "    <tr>\n",
              "      <th>1887</th>\n",
              "      <td>[트렌D] 백화점만?...D2C 온라인몰도 ‘오픈런’ 부른다</td>\n",
              "      <td>디지털데일리언론사 선정</td>\n",
              "      <td>2022-12-03</td>\n",
              "      <td>국내외 커머스 분야에선 새로운 흐름에 맞춰 변화가 지속되고 있습니다. 그만큼 흥미로...</td>\n",
              "      <td>https://n.news.naver.com/mnews/article/138/000...</td>\n",
              "      <td>2022</td>\n",
              "      <td>12</td>\n",
              "    </tr>\n",
              "    <tr>\n",
              "      <th>1888</th>\n",
              "      <td>'라방'으로 감귤 판매 도전한 제주 중학생들</td>\n",
              "      <td>YTN</td>\n",
              "      <td>2022-12-03</td>\n",
              "      <td>[앵커]포털 사이트나 전문 플랫폼에서 실시간 방송과 채팅을 통해 상품을 판매하는 것...</td>\n",
              "      <td>https://n.news.naver.com/mnews/article/052/000...</td>\n",
              "      <td>2022</td>\n",
              "      <td>12</td>\n",
              "    </tr>\n",
              "    <tr>\n",
              "      <th>1889</th>\n",
              "      <td>[ESG리포트] 카페24, 플랫폼 이용료 무료·사장님 금융지원으로 협력업체와 상생</td>\n",
              "      <td>조선비즈</td>\n",
              "      <td>2022-12-07</td>\n",
              "      <td>클릭 몇 번이면 누구나 무료로 온라인 쇼핑몰 구축할 수 있어“아이디어 있으면 창업 ...</td>\n",
              "      <td>https://n.news.naver.com/mnews/article/366/000...</td>\n",
              "      <td>2022</td>\n",
              "      <td>12</td>\n",
              "    </tr>\n",
              "    <tr>\n",
              "      <th>1890</th>\n",
              "      <td>[뷰티뉴스] 지루한 라방 저리 비켜…러쉬, 30분짜리 ‘숏핑 라이브’ 오픈</td>\n",
              "      <td>앳스타일</td>\n",
              "      <td>2022-12-07</td>\n",
              "      <td>[앳스타일 황연도 기자] 러쉬코리아가 다가오는 연말을 맞이해 자체 라이브 방송 ‘숏...</td>\n",
              "      <td>https://n.news.naver.com/mnews/article/415/000...</td>\n",
              "      <td>2022</td>\n",
              "      <td>12</td>\n",
              "    </tr>\n",
              "    <tr>\n",
              "      <th>1891</th>\n",
              "      <td>“연말선물로 명품 한 번?”…트렌비, 라방에서 최대 10% 할인</td>\n",
              "      <td>디지털데일리</td>\n",
              "      <td>2022-12-07</td>\n",
              "      <td>[디지털데일리 이안나 기자] 명품 플랫폼 트렌비가 7일 오후 8시 ‘연말 선물’...</td>\n",
              "      <td>https://n.news.naver.com/mnews/article/138/000...</td>\n",
              "      <td>2022</td>\n",
              "      <td>12</td>\n",
              "    </tr>\n",
              "  </tbody>\n",
              "</table>\n",
              "<p>1892 rows × 7 columns</p>\n",
              "</div>"
            ],
            "text/plain": [
              "                                                 Title         press  \\\n",
              "0                 [새해 업종별 3대 키워드]①소비자 '변심'에 '변신'하는 유통家           뉴스1   \n",
              "1     [2021 컨슈머]① “10분에 1억 매출”... 비대면 소비 이끄는 ‘라이브 커머스’    조선비즈언론사 선정   \n",
              "2                     네이버가 쏘아 올린 라방 전성시대...쿠팡·11번가도 참전    서울경제언론사 선정   \n",
              "3              [새해 업종별 3대 키워드]③패션·뷰티업계 '온택트·온미맨드·지속가능'           뉴스1   \n",
              "4                           현대백화점, '레고 신상품' 라방으로 만나보세요          전자신문   \n",
              "...                                                ...           ...   \n",
              "1887                 [트렌D] 백화점만?...D2C 온라인몰도 ‘오픈런’ 부른다  디지털데일리언론사 선정   \n",
              "1888                          '라방'으로 감귤 판매 도전한 제주 중학생들           YTN   \n",
              "1889     [ESG리포트] 카페24, 플랫폼 이용료 무료·사장님 금융지원으로 협력업체와 상생          조선비즈   \n",
              "1890         [뷰티뉴스] 지루한 라방 저리 비켜…러쉬, 30분짜리 ‘숏핑 라이브’ 오픈          앳스타일   \n",
              "1891               “연말선물로 명품 한 번?”…트렌비, 라방에서 최대 10% 할인        디지털데일리   \n",
              "\n",
              "       Datetime                                            Article  \\\n",
              "0    2021-01-01  온·오프라인 통합에 긱 이코노미 성장까지…\"변화의 연속\"편의점만 가면 뭐든지 'OK...   \n",
              "1    2021-01-02  대신 입어주고, 바로 답해주고… ‘쌍방향 쇼핑’으로 주목 네이버 이어 쿠팡·배민도 ...   \n",
              "2    2021-01-02  [서울경제] 신종 코로나바이러스 감염증(코로나19)으로 비대면 소비문화가 확산하면서...   \n",
              "3    2021-01-03  코로나 쇼크에 '천지개벽'…\"소통 강화하고 개성 따라잡기\"롯데 온택트 패션위크.© ...   \n",
              "4    2021-01-03  3일 오전 경기도 부천시 현대백화점 중동점 유플렉스 지하 1층 레고 공식 매장에서 ...   \n",
              "...         ...                                                ...   \n",
              "1887 2022-12-03  국내외 커머스 분야에선 새로운 흐름에 맞춰 변화가 지속되고 있습니다. 그만큼 흥미로...   \n",
              "1888 2022-12-03  [앵커]포털 사이트나 전문 플랫폼에서 실시간 방송과 채팅을 통해 상품을 판매하는 것...   \n",
              "1889 2022-12-07  클릭 몇 번이면 누구나 무료로 온라인 쇼핑몰 구축할 수 있어“아이디어 있으면 창업 ...   \n",
              "1890 2022-12-07  [앳스타일 황연도 기자] 러쉬코리아가 다가오는 연말을 맞이해 자체 라이브 방송 ‘숏...   \n",
              "1891 2022-12-07    [디지털데일리 이안나 기자] 명품 플랫폼 트렌비가 7일 오후 8시 ‘연말 선물’...   \n",
              "\n",
              "                                                   Link  year  month  \n",
              "0     https://n.news.naver.com/mnews/article/421/000...  2021      1  \n",
              "1     https://n.news.naver.com/mnews/article/366/000...  2021      1  \n",
              "2     https://n.news.naver.com/mnews/article/011/000...  2021      1  \n",
              "3     https://n.news.naver.com/mnews/article/421/000...  2021      1  \n",
              "4     https://n.news.naver.com/mnews/article/030/000...  2021      1  \n",
              "...                                                 ...   ...    ...  \n",
              "1887  https://n.news.naver.com/mnews/article/138/000...  2022     12  \n",
              "1888  https://n.news.naver.com/mnews/article/052/000...  2022     12  \n",
              "1889  https://n.news.naver.com/mnews/article/366/000...  2022     12  \n",
              "1890  https://n.news.naver.com/mnews/article/415/000...  2022     12  \n",
              "1891  https://n.news.naver.com/mnews/article/138/000...  2022     12  \n",
              "\n",
              "[1892 rows x 7 columns]"
            ]
          },
          "execution_count": 74,
          "metadata": {},
          "output_type": "execute_result"
        }
      ],
      "source": [
        "articles_tmp"
      ]
    },
    {
      "cell_type": "code",
      "execution_count": 76,
      "metadata": {},
      "outputs": [
        {
          "data": {
            "text/plain": [
              "year  month\n",
              "2021  1        123\n",
              "      2         64\n",
              "      3        119\n",
              "      4        126\n",
              "      5        191\n",
              "      6        107\n",
              "      7        102\n",
              "      8         80\n",
              "      9         48\n",
              "      10        86\n",
              "      11        95\n",
              "      12        60\n",
              "2022  1         70\n",
              "      2         50\n",
              "      3         73\n",
              "      4         77\n",
              "      5         52\n",
              "      6         50\n",
              "      7         70\n",
              "      8         42\n",
              "      9         78\n",
              "      10        49\n",
              "      11        68\n",
              "      12        12\n",
              "dtype: int64"
            ]
          },
          "execution_count": 76,
          "metadata": {},
          "output_type": "execute_result"
        }
      ],
      "source": [
        "articles_tmp.groupby(['year', 'month'])"
      ]
    },
    {
      "cell_type": "code",
      "execution_count": 38,
      "metadata": {},
      "outputs": [
        {
          "data": {
            "text/plain": [
              "Datetime\n",
              "2021-01-01    1\n",
              "2021-01-02    2\n",
              "2021-01-03    6\n",
              "2021-01-04    1\n",
              "2021-01-06    6\n",
              "             ..\n",
              "2022-11-30    2\n",
              "2022-12-01    6\n",
              "2022-12-02    1\n",
              "2022-12-03    2\n",
              "2022-12-07    3\n",
              "Length: 517, dtype: int64"
            ]
          },
          "execution_count": 38,
          "metadata": {},
          "output_type": "execute_result"
        }
      ],
      "source": [
        "articles.groupby('Datetime').size()"
      ]
    },
    {
      "cell_type": "code",
      "execution_count": 77,
      "metadata": {},
      "outputs": [
        {
          "name": "stdout",
          "output_type": "stream",
          "text": [
            "<class 'pandas.core.frame.DataFrame'>\n",
            "RangeIndex: 5612 entries, 0 to 5611\n",
            "Data columns (total 15 columns):\n",
            " #   Column      Non-Null Count  Dtype         \n",
            "---  ------      --------------  -----         \n",
            " 0   sport_idx   5612 non-null   int64         \n",
            " 1   플랫폼         5612 non-null   object        \n",
            " 2   방송명         5612 non-null   object        \n",
            " 3   분류          5612 non-null   object        \n",
            " 4   카테고리        5612 non-null   object        \n",
            " 5   방송일자시간      5612 non-null   datetime64[ns]\n",
            " 6   상품수         5612 non-null   int64         \n",
            " 7   판매량         5612 non-null   float64       \n",
            " 8   상품평균판매량(개)  5612 non-null   float64       \n",
            " 9   매출액         5612 non-null   float64       \n",
            " 10  상품평균가격(원)   5612 non-null   float64       \n",
            " 11  조회수         5612 non-null   float64       \n",
            " 12  구매전환율(%)    5612 non-null   float64       \n",
            " 13  방송일자        5612 non-null   object        \n",
            " 14  방송시작시간      5612 non-null   object        \n",
            "dtypes: datetime64[ns](1), float64(6), int64(2), object(6)\n",
            "memory usage: 657.8+ KB\n"
          ]
        }
      ],
      "source": [
        "Sports_tmp = Sports.copy()\n",
        "Sports_tmp.info()"
      ]
    },
    {
      "cell_type": "code",
      "execution_count": 79,
      "metadata": {},
      "outputs": [],
      "source": [
        "Sports_tmp['year'] = Sports_tmp['방송일자시간'].dt.year\n",
        "Sports_tmp['month'] = Sports_tmp['방송일자시간'].dt.month"
      ]
    },
    {
      "cell_type": "code",
      "execution_count": 85,
      "metadata": {},
      "outputs": [
        {
          "data": {
            "text/plain": [
              "year  month\n",
              "2022  1         560396580\n",
              "      2         572366420\n",
              "      3         703058550\n",
              "      4        1033377991\n",
              "      5        1883253525\n",
              "      6        1513833392\n",
              "      7        1572025360\n",
              "      8         899432862\n",
              "      9        1186013557\n",
              "      10       1033474886\n",
              "      11        751212574\n",
              "Name: 매출액, dtype: int32"
            ]
          },
          "execution_count": 85,
          "metadata": {},
          "output_type": "execute_result"
        }
      ],
      "source": [
        "# 매출액이 증가 하는 것을 볼 수 있다. \n",
        "Sports_tmp.groupby(['year', 'month'])['매출액'].sum().astype(int)"
      ]
    },
    {
      "cell_type": "code",
      "execution_count": 86,
      "metadata": {},
      "outputs": [
        {
          "data": {
            "text/plain": [
              "year  month\n",
              "2022  1         3969\n",
              "      2         8462\n",
              "      3        13309\n",
              "      4        16051\n",
              "      5        34619\n",
              "      6        56352\n",
              "      7        31341\n",
              "      8        20354\n",
              "      9        18987\n",
              "      10       16794\n",
              "      11       10825\n",
              "Name: 판매량, dtype: int32"
            ]
          },
          "execution_count": 86,
          "metadata": {},
          "output_type": "execute_result"
        }
      ],
      "source": [
        "Sports_tmp.groupby(['year', 'month'])['판매량'].sum().astype(int)"
      ]
    },
    {
      "cell_type": "code",
      "execution_count": 103,
      "metadata": {},
      "outputs": [
        {
          "data": {
            "text/html": [
              "<div>\n",
              "<style scoped>\n",
              "    .dataframe tbody tr th:only-of-type {\n",
              "        vertical-align: middle;\n",
              "    }\n",
              "\n",
              "    .dataframe tbody tr th {\n",
              "        vertical-align: top;\n",
              "    }\n",
              "\n",
              "    .dataframe thead th {\n",
              "        text-align: right;\n",
              "    }\n",
              "</style>\n",
              "<table border=\"1\" class=\"dataframe\">\n",
              "  <thead>\n",
              "    <tr style=\"text-align: right;\">\n",
              "      <th></th>\n",
              "      <th>Inte_idx</th>\n",
              "    </tr>\n",
              "  </thead>\n",
              "  <tbody>\n",
              "    <tr>\n",
              "      <th>0</th>\n",
              "      <td>0</td>\n",
              "    </tr>\n",
              "  </tbody>\n",
              "</table>\n",
              "</div>"
            ],
            "text/plain": [
              "   Inte_idx\n",
              "0         0"
            ]
          },
          "execution_count": 103,
          "metadata": {},
          "output_type": "execute_result"
        }
      ],
      "source": [
        "Interiors.drop(Interiors.iloc[[0],[0]])"
      ]
    },
    {
      "cell_type": "code",
      "execution_count": null,
      "metadata": {},
      "outputs": [],
      "source": [
        "df_list = [Interiors,Books, Appliances ,Life_health ,Sports, Foods, Convenience, Clothes, Accessories, Cosmetics, Parenting]\n",
        "\n",
        "for df in df_list:\n",
        "    df.drop(columns=)"
      ]
    }
  ],
  "metadata": {
    "colab": {
      "provenance": []
    },
    "kernelspec": {
      "display_name": "final",
      "language": "python",
      "name": "python3"
    },
    "language_info": {
      "codemirror_mode": {
        "name": "ipython",
        "version": 3
      },
      "file_extension": ".py",
      "mimetype": "text/x-python",
      "name": "python",
      "nbconvert_exporter": "python",
      "pygments_lexer": "ipython3",
      "version": "3.8.0"
    },
    "vscode": {
      "interpreter": {
        "hash": "309bd9f22bf3ce077f0eeb0f13eedd67c8c3b23ce1bee509e5f150b155bd6285"
      }
    }
  },
  "nbformat": 4,
  "nbformat_minor": 0
}
